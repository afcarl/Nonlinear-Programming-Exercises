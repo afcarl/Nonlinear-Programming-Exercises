{
 "cells": [
  {
   "cell_type": "markdown",
   "metadata": {
    "collapsed": true
   },
   "source": [
    "# Exercise 1.2.1\n",
    "\n",
    "Consider the problem of minimizing the function of two variables $f(x, y) = 3 x^2 + y^4$ with steepest descent and stepsize chosen by the Armijo rule. \n",
    "\n",
    "We start by choosing $s = 1$, $\\sigma = 0.1$, and $\\beta = 0.5$."
   ]
  },
  {
   "cell_type": "code",
   "execution_count": 0,
   "metadata": {},
   "outputs": [],
   "source": [
    "import numpy as np\n",
    "\n",
    "import matplotlib.pyplot as plt\n",
    "from mpl_toolkits.mplot3d import Axes3D\n",
    "\n",
    "%matplotlib inline"
   ]
  },
  {
   "cell_type": "markdown",
   "metadata": {},
   "source": [
    "Lets first plot our function, which can be achieved easily with matplotlib and numpy"
   ]
  },
  {
   "cell_type": "code",
   "execution_count": 0,
   "metadata": {},
   "outputs": [],
   "source": [
    "def z(x, y): return 3 * np.power(x, 2) + np.power(y, 4)\n",
    "\n",
    "xs = np.linspace(-2, 2, 100)\n",
    "ys = np.linspace(-2, 2, 100)\n",
    "Xs, Ys = np.meshgrid(xs, ys)\n",
    "f = z(Xs, Ys)\n",
    "\n",
    "fig = plt.figure(figsize=(10, 6))\n",
    "ax = fig.add_subplot(111, projection='3d')\n",
    "ax.plot_surface(Xs, Ys, f, rstride=1, cstride=1, color='b', alpha=0.5)\n",
    "ax.set_title('$f(x,y) = 3x^2 + y^4$')\n",
    "ax.set_xlabel('x')\n",
    "ax.set_ylabel('y')\n",
    "ax.set_zlabel('z')\n",
    "plt.show()"
   ]
  },
  {
   "cell_type": "markdown",
   "metadata": {},
   "source": [
    "Now, we define what we need for the Armijo rule."
   ]
  },
  {
   "cell_type": "code",
   "execution_count": 0,
   "metadata": {},
   "outputs": [],
   "source": [
    "s = 1\n",
    "sigma = 0.1\n",
    "beta = 0.5\n",
    "\n",
    "# the starting position for the optimization\n",
    "x_k = 1.\n",
    "y_k = -2.\n",
    "\n",
    "\n",
    "# the Jacobian of f at (x,y)\n",
    "def grad_z(x, y): \n",
    "    return np.array([[6 * x, 4 * np.power(y, 3)]])"
   ]
  },
  {
   "cell_type": "markdown",
   "metadata": {},
   "source": [
    "Let's define the Armijo rule:"
   ]
  },
  {
   "cell_type": "code",
   "execution_count": 0,
   "metadata": {},
   "outputs": [],
   "source": [
    "def armijo(s, sigma, beta, x_k, y_k, f, grad_f, d, maxit=10):\n",
    "    \"\"\"\n",
    "    Carry out the Armijo successive reduction rule and return\n",
    "    the corresponding step size.\n",
    "    \n",
    "    Normally, you'd have this function take in a single input vector, but \n",
    "    for this simple exercise, we'll provide it with (x_k, y_k) explicitly.\n",
    "     \n",
    "    :param s: stepsize parameter\n",
    "    :param sigma: scaling factor, 0 < sigma < 1\n",
    "    :param beta:  reduction factor, 0 < beta < 1\n",
    "    :param x_k: value of x at time step k\n",
    "    :param y_k: value of y at time step k\n",
    "    :param f: function, R^n -> R, that evaluates f at (x,y)\n",
    "    :param grad_f: function, R^n -> R, that returns the gradient of f at (x,y) as np.array\n",
    "    :param d: gradient descent direction as np.array (dim: 2x1)\n",
    "    :param maxit: max number of iterations to perform before exiting\n",
    "    :return: alpha_k, the stepsize at time step k\n",
    "    \"\"\"\n",
    "    \n",
    "    m = 0\n",
    "    while m < maxit:\n",
    "        b_m = np.power(beta, m)\n",
    "        \n",
    "        print('[armijo rule] beta^m: {}, sigma: {}, s: {}'.format(b_m, sigma, s))\n",
    "        \n",
    "        # check the Armijo condition\n",
    "        f1 = f(x_k, y_k)\n",
    "        f2 = f(x_k + b_m * s * d[0, 0], y_k + b_m * s * d[0, 1])\n",
    "        diff = f1 - f2\n",
    "        lower_bound = -sigma * b_m * s * np.matmul(grad_f(x_k, y_k), np.transpose(d))\n",
    "        if np.greater_equal(np.array([diff]), lower_bound):\n",
    "            return b_m * s\n",
    "        m += 1\n",
    "    return np.power(beta, m) * s"
   ]
  },
  {
   "cell_type": "markdown",
   "metadata": {},
   "source": [
    "Now we can apply steepest descent:"
   ]
  },
  {
   "cell_type": "code",
   "execution_count": 0,
   "metadata": {
    "collapsed": false
   },
   "outputs": [
    {
     "name": "stdout",
     "output_type": "stream",
     "text": [
      "[armijo rule] beta^m: 1.0, sigma: 0.1, s: 1\n[armijo rule] stepsize is 1.0\n[steepest descent] x_k+1: 0.8157114649498146 y_k+1: -1.0171278130656782\n"
     ]
    }
   ],
   "source": [
    "from gradient_descent import steepest_descent\n",
    "\n",
    "# steepest descent direction is d_k = -(grad f/norm(grad f))\n",
    "d_k = -(grad_z(x_k, y_k) / np.linalg.norm(grad_z(x_k, y_k)))\n",
    "# apply the armijo rule\n",
    "armijo_stepsize = armijo(s, sigma, beta, x_k, y_k, z, grad_z, d_k)\n",
    "\n",
    "print('[armijo rule] stepsize is {}'.format(armijo_stepsize))\n",
    "\n",
    "# apply steepest descent\n",
    "out = steepest_descent(np.array([[x_k, y_k]]), armijo_stepsize, grad_z(x_k, y_k) / np.linalg.norm(grad_z(x_k, y_k)))\n",
    "\n",
    "print('[steepest descent] x_k+1: {} y_k+1: {}'.format(out[0, 0], out[0, 1]))\n",
    "\n",
    "x_k_1 = out[0, 0]\n",
    "y_k_1 = out[0, 1]"
   ]
  },
  {
   "cell_type": "markdown",
   "metadata": {},
   "source": [
    "Let's plot the result on our original plot:"
   ]
  },
  {
   "cell_type": "code",
   "execution_count": 0,
   "metadata": {},
   "outputs": [],
   "source": [
    "fig2 = plt.figure(figsize=(10, 6))\n",
    "ax2 = fig2.add_subplot(111, projection='3d')\n",
    "ax2.plot_surface(Xs, Ys, f, rstride=2, cstride=2, color='b')\n",
    "ax2.set_title('Steepest descent with Armijo rule')\n",
    "ax2.set_xlabel('x')\n",
    "ax2.set_ylabel('y')\n",
    "ax2.set_zlabel('z')\n",
    "ax2.plot([x_k, x_k_1], [y_k, y_k_1], [z(x_k, y_k), z(x_k_1, y_k_1)], \n",
    "         linewidth=3, color='red', markevery=[x_k, y_k], marker='d', markerfacecolor='yellow')\n",
    "ax2.text(x_k, y_k, 22, '$x(k): {}$, $y(k): {}$'.format(x_k, y_k))\n",
    "ax2.text(2, 0, 0, '$x(k+1): {}$, $y(k+1): {}$'.format(np.round(x_k_1, 3), np.round(y_k_1, 3)))\n",
    "ax2.view_init(20, 45)\n",
    "plt.show()"
   ]
  },
 ],
 "metadata": {
  "kernelspec": {
   "display_name": "Python 2",
   "language": "python",
   "name": "python2"
  },
  "language_info": {
   "codemirror_mode": {
    "name": "ipython",
    "version": 2.0
   },
   "file_extension": ".py",
   "mimetype": "text/x-python",
   "name": "python",
   "nbconvert_exporter": "python",
   "pygments_lexer": "ipython2",
   "version": "2.7.6"
  }
 },
 "nbformat": 4,
 "nbformat_minor": 0
}
